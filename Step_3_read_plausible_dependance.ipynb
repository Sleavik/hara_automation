{
 "cells": [
  {
   "cell_type": "code",
   "execution_count": 3,
   "id": "visible-danish",
   "metadata": {},
   "outputs": [
    {
     "name": "stdout",
     "output_type": "stream",
     "text": [
      "['Accident_Severity', 'Accident_Severity', 'Accident_Severity', 'Accident_Severity', 'Accident_Severity', 'Accident_Severity', 'Accident_Severity', 'Accident_Severity', 'Accident_Severity', 'Accident_Severity', 'Accident_Severity', 'Accident_Severity', 'Accident_Severity', 'Accident_Severity', 'Accident_Severity', 'Accident_Severity', 'Accident_Severity', 'Number_of_Vehicles', 'Number_of_Vehicles', 'Number_of_Vehicles', 'Number_of_Vehicles', 'Number_of_Vehicles', 'Number_of_Vehicles', 'Number_of_Vehicles', 'Number_of_Vehicles', 'Number_of_Vehicles', 'Number_of_Vehicles', 'Number_of_Vehicles', 'Number_of_Vehicles', 'Number_of_Vehicles', 'Number_of_Casualties', 'Number_of_Casualties', 'Number_of_Casualties', 'Number_of_Casualties', 'Number_of_Casualties', 'Number_of_Casualties', 'Number_of_Casualties', 'Number_of_Casualties', 'Number_of_Casualties', 'Number_of_Casualties', 'Number_of_Casualties', 'Number_of_Casualties', 'Number_of_Casualties', 'Number_of_Casualties', 'Number_of_Casualties', 'Number_of_Casualties', 'Number_of_Casualties', 'Number_of_Casualties', 'X1st_Road_Class', 'X1st_Road_Class', 'X1st_Road_Class', 'X1st_Road_Class', 'X1st_Road_Class', 'X1st_Road_Class', 'X1st_Road_Class', 'Road_Type', 'Road_Type', 'Road_Type', 'Road_Type', 'Road_Type', 'Road_Type', 'Road_Type', 'Road_Type', 'Road_Type', 'Road_Type', 'Road_Type', 'Road_Type', 'Speed_limit', 'Speed_limit', 'Speed_limit', 'Speed_limit', 'Speed_limit', 'Speed_limit', 'Speed_limit', 'Speed_limit', 'Speed_limit', 'Speed_limit', 'Junction_Detail', 'Junction_Detail', 'Junction_Detail', 'Junction_Detail', 'Junction_Detail', 'Junction_Detail', 'Junction_Detail', 'Junction_Detail', 'Junction_Control', 'Junction_Control', 'Junction_Control', 'Junction_Control', 'Junction_Control', 'Junction_Control', 'Junction_Control', 'Junction_Control', 'Junction_Control', 'Junction_Control', 'Junction_Control', 'Junction_Control', 'Junction_Control', 'X2nd_Road_Class', 'X2nd_Road_Class', 'X2nd_Road_Class', 'X2nd_Road_Class', 'X2nd_Road_Class', 'X2nd_Road_Class', 'X2nd_Road_Class', 'Pedestrian_Crossing.Physical_Facilities', 'Pedestrian_Crossing.Physical_Facilities', 'Pedestrian_Crossing.Physical_Facilities', 'Pedestrian_Crossing.Physical_Facilities', 'Pedestrian_Crossing.Physical_Facilities', 'Pedestrian_Crossing.Physical_Facilities', 'Pedestrian_Crossing.Physical_Facilities', 'Pedestrian_Crossing.Physical_Facilities', 'Pedestrian_Crossing.Physical_Facilities', 'Pedestrian_Crossing.Physical_Facilities', 'Pedestrian_Crossing.Physical_Facilities', 'Pedestrian_Crossing.Physical_Facilities', 'Pedestrian_Crossing.Physical_Facilities', 'Pedestrian_Crossing.Physical_Facilities', 'Pedestrian_Crossing.Physical_Facilities', 'Pedestrian_Crossing.Physical_Facilities', 'Light_Conditions', 'Light_Conditions', 'Light_Conditions', 'Light_Conditions', 'Light_Conditions', 'Light_Conditions', 'Light_Conditions', 'Light_Conditions', 'Light_Conditions', 'Light_Conditions', 'Light_Conditions', 'Light_Conditions', 'Light_Conditions', 'Weather_Conditions', 'Weather_Conditions', 'Weather_Conditions', 'Weather_Conditions', 'Weather_Conditions', 'Weather_Conditions', 'Weather_Conditions', 'Weather_Conditions', 'Weather_Conditions', 'Weather_Conditions', 'Weather_Conditions', 'Road_Surface_Conditions', 'Road_Surface_Conditions', 'Road_Surface_Conditions', 'Road_Surface_Conditions', 'Road_Surface_Conditions', 'Road_Surface_Conditions', 'Road_Surface_Conditions', 'Road_Surface_Conditions', 'Road_Surface_Conditions', 'Road_Surface_Conditions', 'Road_Surface_Conditions', 'Road_Surface_Conditions', 'Urban_or_Rural_Area', 'Urban_or_Rural_Area', 'Urban_or_Rural_Area', 'Urban_or_Rural_Area', 'Urban_or_Rural_Area', 'Vehicle_Type', 'Vehicle_Type', 'Vehicle_Type', 'Vehicle_Type', 'Vehicle_Type', 'Vehicle_Type', 'Vehicle_Type', 'Vehicle_Type', 'Vehicle_Type', 'Vehicle_Type', 'Vehicle_Type', 'Vehicle_Type', 'Vehicle_Manoeuvre', 'Vehicle_Manoeuvre', 'Vehicle_Manoeuvre', 'Vehicle_Manoeuvre', 'Vehicle_Manoeuvre', 'Vehicle_Manoeuvre', 'Vehicle_Manoeuvre', 'Vehicle_Manoeuvre', 'Vehicle_Manoeuvre', 'Vehicle_Manoeuvre', 'Vehicle_Manoeuvre', 'Vehicle_Manoeuvre', 'Vehicle_Manoeuvre', 'Vehicle_Manoeuvre', 'Skidding_and_Overturning', 'Skidding_and_Overturning', 'Skidding_and_Overturning', 'Skidding_and_Overturning', 'Skidding_and_Overturning', 'Skidding_and_Overturning', 'Skidding_and_Overturning', 'Skidding_and_Overturning', 'Skidding_and_Overturning', 'Skidding_and_Overturning', 'Skidding_and_Overturning', 'Skidding_and_Overturning', 'Skidding_and_Overturning', 'Skidding_and_Overturning', 'Skidding_and_Overturning', 'X1st_Point_of_Impact', 'X1st_Point_of_Impact', 'X1st_Point_of_Impact', 'X1st_Point_of_Impact', 'X1st_Point_of_Impact', 'X1st_Point_of_Impact', 'X1st_Point_of_Impact', 'X1st_Point_of_Impact', 'X1st_Point_of_Impact', 'X1st_Point_of_Impact', 'X1st_Point_of_Impact', 'X1st_Point_of_Impact', 'X1st_Point_of_Impact', 'X1st_Point_of_Impact', 'X1st_Point_of_Impact', 'X1st_Point_of_Impact']\n",
      "---------------------------------------------------------------------\n",
      "['Accident_Severity', 'Number_of_Vehicles', 'X1st_Road_Class', 'Road_Type', 'Speed_limit', 'Junction_Detail', 'Junction_Control', 'X2nd_Road_Class', 'Pedestrian_Crossing.Physical_Facilities', 'Light_Conditions', 'Weather_Conditions', 'Road_Surface_Conditions', 'Urban_or_Rural_Area', 'Vehicle_Type', 'Vehicle_Manoeuvre', 'Skidding_and_Overturning', 'X1st_Point_of_Impact', 'Number_of_Vehicles', 'X1st_Road_Class', 'Road_Type', 'Speed_limit', 'Junction_Detail', 'Junction_Control', 'X2nd_Road_Class', 'Pedestrian_Crossing.Physical_Facilities', 'Light_Conditions', 'Weather_Conditions', 'Road_Surface_Conditions', 'Urban_or_Rural_Area', 'Vehicle_Type', 'Accident_Severity', 'Number_of_Vehicles', 'Number_of_Casualties', 'X1st_Road_Class', 'Road_Type', 'Speed_limit', 'Junction_Detail', 'Junction_Control', 'X2nd_Road_Class', 'Pedestrian_Crossing.Physical_Facilities', 'Light_Conditions', 'Weather_Conditions', 'Road_Surface_Conditions', 'Urban_or_Rural_Area', 'Vehicle_Type', 'Vehicle_Manoeuvre', 'Skidding_and_Overturning', 'X1st_Point_of_Impact', 'Number_of_Casualties', 'X1st_Road_Class', 'Weather_Conditions', 'Road_Surface_Conditions', 'Urban_or_Rural_Area', 'Skidding_and_Overturning', 'X1st_Point_of_Impact', 'Number_of_Casualties', 'X1st_Road_Class', 'Road_Type', 'Junction_Detail', 'X2nd_Road_Class', 'Light_Conditions', 'Weather_Conditions', 'Road_Surface_Conditions', 'Urban_or_Rural_Area', 'Vehicle_Type', 'Vehicle_Manoeuvre', 'X1st_Point_of_Impact', 'X1st_Road_Class', 'Road_Type', 'Speed_limit', 'X2nd_Road_Class', 'Light_Conditions', 'Weather_Conditions', 'Road_Surface_Conditions', 'Urban_or_Rural_Area', 'Skidding_and_Overturning', 'X1st_Point_of_Impact', 'Number_of_Casualties', 'Junction_Detail', 'Weather_Conditions', 'Road_Surface_Conditions', 'Urban_or_Rural_Area', 'Vehicle_Type', 'Skidding_and_Overturning', 'X1st_Point_of_Impact', 'Number_of_Vehicles', 'Number_of_Casualties', 'X1st_Road_Class', 'Road_Type', 'Junction_Detail', 'Junction_Control', 'X2nd_Road_Class', 'Light_Conditions', 'Weather_Conditions', 'Road_Surface_Conditions', 'Urban_or_Rural_Area', 'Vehicle_Type', 'X1st_Point_of_Impact', 'Number_of_Casualties', 'X2nd_Road_Class', 'Weather_Conditions', 'Road_Surface_Conditions', 'Urban_or_Rural_Area', 'Skidding_and_Overturning', 'X1st_Point_of_Impact', 'Number_of_Vehicles', 'Number_of_Casualties', 'X1st_Road_Class', 'Road_Type', 'Junction_Detail', 'Junction_Control', 'X2nd_Road_Class', 'Pedestrian_Crossing.Physical_Facilities', 'Light_Conditions', 'Weather_Conditions', 'Road_Surface_Conditions', 'Urban_or_Rural_Area', 'Vehicle_Type', 'Vehicle_Manoeuvre', 'Skidding_and_Overturning', 'X1st_Point_of_Impact', 'Number_of_Casualties', 'X1st_Road_Class', 'Road_Type', 'Junction_Detail', 'X2nd_Road_Class', 'Pedestrian_Crossing.Physical_Facilities', 'Light_Conditions', 'Weather_Conditions', 'Road_Surface_Conditions', 'Urban_or_Rural_Area', 'Vehicle_Type', 'Skidding_and_Overturning', 'X1st_Point_of_Impact', 'Number_of_Casualties', 'X1st_Road_Class', 'Junction_Detail', 'Junction_Control', 'X2nd_Road_Class', 'Pedestrian_Crossing.Physical_Facilities', 'Weather_Conditions', 'Urban_or_Rural_Area', 'Vehicle_Type', 'Skidding_and_Overturning', 'X1st_Point_of_Impact', 'X1st_Road_Class', 'Road_Type', 'Junction_Detail', 'Junction_Control', 'X2nd_Road_Class', 'Pedestrian_Crossing.Physical_Facilities', 'Light_Conditions', 'Weather_Conditions', 'Road_Surface_Conditions', 'Urban_or_Rural_Area', 'Vehicle_Type', 'X1st_Point_of_Impact', 'Number_of_Casualties', 'Weather_Conditions', 'Urban_or_Rural_Area', 'Skidding_and_Overturning', 'X1st_Point_of_Impact', 'X1st_Road_Class', 'Road_Type', 'Speed_limit', 'Junction_Detail', 'Junction_Control', 'X2nd_Road_Class', 'Pedestrian_Crossing.Physical_Facilities', 'Light_Conditions', 'Weather_Conditions', 'Road_Surface_Conditions', 'Urban_or_Rural_Area', 'Vehicle_Type', 'Number_of_Vehicles', 'X1st_Road_Class', 'Road_Type', 'Speed_limit', 'Junction_Detail', 'Junction_Control', 'X2nd_Road_Class', 'Pedestrian_Crossing.Physical_Facilities', 'Light_Conditions', 'Weather_Conditions', 'Road_Surface_Conditions', 'Urban_or_Rural_Area', 'Vehicle_Type', 'Vehicle_Manoeuvre', 'Number_of_Vehicles', 'X1st_Road_Class', 'Road_Type', 'Speed_limit', 'Junction_Detail', 'Junction_Control', 'X2nd_Road_Class', 'Pedestrian_Crossing.Physical_Facilities', 'Light_Conditions', 'Weather_Conditions', 'Road_Surface_Conditions', 'Urban_or_Rural_Area', 'Vehicle_Type', 'Vehicle_Manoeuvre', 'Skidding_and_Overturning', 'Number_of_Vehicles', 'X1st_Road_Class', 'Road_Type', 'Speed_limit', 'Junction_Detail', 'Junction_Control', 'X2nd_Road_Class', 'Pedestrian_Crossing.Physical_Facilities', 'Light_Conditions', 'Weather_Conditions', 'Road_Surface_Conditions', 'Urban_or_Rural_Area', 'Vehicle_Type', 'Vehicle_Manoeuvre', 'Skidding_and_Overturning', 'X1st_Point_of_Impact']\n"
     ]
    }
   ],
   "source": [
    "from numpy import savetxt\n",
    "import numpy as np\n",
    "\n",
    "#parsing file\n",
    "pd_data = open(\"plausible_dependencies - new.csv\", 'r')\n",
    "pd_list = pd_data.readlines()\n",
    "pd_data.close()\n",
    "\n",
    "types = []\n",
    "lines = []\n",
    "\n",
    "for line in pd_list:\n",
    "    lines.append(line.split(','))\n",
    "\n",
    "for i in range (0, len(lines)):\n",
    "    for j in range (0, len(lines[i])):\n",
    "        try:\n",
    "            lines[i][j] = lines[i][j].rstrip(\"\\n\")\n",
    "        except:\n",
    "            pass\n",
    "\n",
    "list(lines.pop(0))\n",
    "for i in range (0, len(lines)):\n",
    "    types.append(lines[i].pop(0))\n",
    "\n",
    "list_from = []\n",
    "list_to = []\n",
    "\n",
    "for i in range(0, len(lines)):\n",
    "    for j in range (0, len(lines[i])):\n",
    "        if lines[i][j] == \"FALSE\":\n",
    "            list_from.append(types[i])\n",
    "            list_to.append(types[j])\n",
    "        else:\n",
    "            pass\n",
    "\n",
    "print(list_from)\n",
    "print(\"---------------------------------------------------------------------\")\n",
    "print(list_to)\n",
    "\n",
    "data_from = np.asarray(list_from)\n",
    "data_to = np.asarray(list_to)\n",
    "np.savetxt('list_from.csv', data_from, delimiter=',', fmt='%s')\n",
    "np.savetxt('list_to.csv', data_to, delimiter=',', fmt='%s')\n"
   ]
  },
  {
   "cell_type": "code",
   "execution_count": null,
   "id": "retained-insert",
   "metadata": {},
   "outputs": [],
   "source": []
  },
  {
   "cell_type": "code",
   "execution_count": null,
   "id": "falling-philippines",
   "metadata": {},
   "outputs": [],
   "source": []
  }
 ],
 "metadata": {
  "kernelspec": {
   "display_name": "Python 3",
   "language": "python",
   "name": "python3"
  },
  "language_info": {
   "codemirror_mode": {
    "name": "ipython",
    "version": 3
   },
   "file_extension": ".py",
   "mimetype": "text/x-python",
   "name": "python",
   "nbconvert_exporter": "python",
   "pygments_lexer": "ipython3",
   "version": "3.9.0"
  }
 },
 "nbformat": 4,
 "nbformat_minor": 5
}
