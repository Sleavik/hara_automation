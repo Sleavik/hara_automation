{
 "cells": [
  {
   "cell_type": "code",
   "execution_count": 1,
   "id": "early-proportion",
   "metadata": {},
   "outputs": [
    {
     "name": "stdout",
     "output_type": "stream",
     "text": [
      "['Accidents_2019.csv', 'Accidents_2018.csv', 'Accidents_2015.csv', 'Accidents_2014.csv', 'Accidents_2016.csv', 'Accidents_2017.csv']\n"
     ]
    },
    {
     "name": "stderr",
     "output_type": "stream",
     "text": [
      "/Library/Frameworks/Python.framework/Versions/3.9/lib/python3.9/site-packages/IPython/core/interactiveshell.py:3347: DtypeWarning: Columns (0,31) have mixed types.Specify dtype option on import or set low_memory=False.\n",
      "  if (await self.run_code(code, result,  async_=asy)):\n",
      "/Library/Frameworks/Python.framework/Versions/3.9/lib/python3.9/site-packages/IPython/core/interactiveshell.py:3347: DtypeWarning: Columns (0) have mixed types.Specify dtype option on import or set low_memory=False.\n",
      "  if (await self.run_code(code, result,  async_=asy)):\n",
      "/Library/Frameworks/Python.framework/Versions/3.9/lib/python3.9/site-packages/IPython/core/interactiveshell.py:3347: DtypeWarning: Columns (31) have mixed types.Specify dtype option on import or set low_memory=False.\n",
      "  if (await self.run_code(code, result,  async_=asy)):\n"
     ]
    },
    {
     "name": "stdout",
     "output_type": "stream",
     "text": [
      "2287427\n"
     ]
    }
   ],
   "source": [
    "import pandas as pd\n",
    "import os\n",
    "import glob\n",
    "import csv\n",
    "\n",
    "file_extension = '.csv'\n",
    "os.chdir('/Users/islambabaev/Google Drive/PyProjects/HARA Automation/severity_project/accidents')\n",
    "all_filenames = [i for i in glob.glob(f\"*{file_extension}\")]\n",
    "print(all_filenames)\n",
    "combined_acc_data = pd.concat([pd.read_csv(f, delimiter = ',') for f in all_filenames])\n",
    "print(len(combined_acc_data))\n",
    "os.chdir('..')\n",
    "combined_acc_data.to_csv('acc_data.csv', index = False)"
   ]
  },
  {
   "cell_type": "code",
   "execution_count": 2,
   "id": "established-fruit",
   "metadata": {},
   "outputs": [
    {
     "name": "stdout",
     "output_type": "stream",
     "text": [
      "['Vehicles_2017.csv', 'Vehicles_2016.csv', 'Vehicles_2014.csv', 'Vehicles_2015.csv', 'Vehicles_2018.csv', 'Vehicles_2019.csv']\n",
      "4196486\n"
     ]
    }
   ],
   "source": [
    "os.chdir('/Users/islambabaev/Google Drive/PyProjects/HARA Automation/severity_project/vehicles')\n",
    "all_filenames = [i for i in glob.glob(f\"*{file_extension}\")]\n",
    "print(all_filenames)\n",
    "combined_veh_data = pd.concat([pd.read_csv(f, delimiter = ',') for f in all_filenames])\n",
    "print(len(combined_veh_data))\n",
    "os.chdir('..')\n",
    "combined_veh_data.to_csv('veh_data.csv', index = False)"
   ]
  },
  {
   "cell_type": "code",
   "execution_count": 3,
   "id": "recreational-boost",
   "metadata": {},
   "outputs": [
    {
     "name": "stdout",
     "output_type": "stream",
     "text": [
      "['Casualties_2016.csv', 'Casualties_2017.csv', 'Casualties_2015.csv', 'Casualties_2014.csv', 'Casualties_2019.csv', 'Casualties_2018.csv']\n",
      "3069041\n"
     ]
    }
   ],
   "source": [
    "os.chdir('/Users/islambabaev/Google Drive/PyProjects/HARA Automation/severity_project/casualties')\n",
    "all_filenames = [i for i in glob.glob(f\"*{file_extension}\")]\n",
    "print(all_filenames)\n",
    "combined_cas_data = pd.concat([pd.read_csv(f, delimiter = ',') for f in all_filenames])\n",
    "print(len(combined_cas_data))\n",
    "os.chdir('..')\n",
    "combined_cas_data.to_csv('cas_data.csv', index = False)"
   ]
  }
 ],
 "metadata": {
  "kernelspec": {
   "display_name": "Python 3",
   "language": "python",
   "name": "python3"
  },
  "language_info": {
   "codemirror_mode": {
    "name": "ipython",
    "version": 3
   },
   "file_extension": ".py",
   "mimetype": "text/x-python",
   "name": "python",
   "nbconvert_exporter": "python",
   "pygments_lexer": "ipython3",
   "version": "3.9.0"
  }
 },
 "nbformat": 4,
 "nbformat_minor": 5
}
